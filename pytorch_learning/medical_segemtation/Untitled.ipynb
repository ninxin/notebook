{
 "cells": [
  {
   "cell_type": "code",
   "execution_count": null,
   "id": "a330bd56",
   "metadata": {},
   "outputs": [],
   "source": [
    "import cv2\n",
    "image = cv2.imread(\"hand.jpg\")\n",
    "cv2.imshow(\"hand\",image) #to view the palm in python\n",
    "cv2.waitKey(0) "
   ]
  },
  {
   "cell_type": "code",
   "execution_count": null,
   "id": "3bab35ad",
   "metadata": {},
   "outputs": [],
   "source": [
    "gray = cv2.cvtColor(image,cv2.COLOR_BGR2GRAY)"
   ]
  },
  {
   "cell_type": "code",
   "execution_count": null,
   "id": "f5d823a2",
   "metadata": {},
   "outputs": [],
   "source": [
    "edges = cv2.Canny(gray,60,65,apertureSize = 3)\n",
    "cv2.imshow(\"edges\",edges)\n",
    "cv2.waitKey(0)"
   ]
  },
  {
   "cell_type": "code",
   "execution_count": null,
   "id": "b4e6070d",
   "metadata": {},
   "outputs": [],
   "source": [
    "edges = cv2.bitwise_not(edges)\n",
    "cv2.imshow(\"change black and white\",edges)\n",
    "cv2.waitKey(0)"
   ]
  },
  {
   "cell_type": "code",
   "execution_count": null,
   "id": "73d12f4b",
   "metadata": {},
   "outputs": [],
   "source": [
    "cv2.imwrite(\"palmlines.jpg\", edges)\n",
    "palmlines = cv2.imread(\"palmlines.jpg\")\n",
    "img = cv2.addWeighted(palmlines, 0.3, image, 0.7, 0)\n",
    "cv2.imshow(\"lines in palm\", img)\n",
    "cv2.waitKey(0)"
   ]
  },
  {
   "cell_type": "code",
   "execution_count": null,
   "id": "bf23f5dc",
   "metadata": {},
   "outputs": [],
   "source": []
  },
  {
   "cell_type": "code",
   "execution_count": null,
   "id": "abca50a3",
   "metadata": {},
   "outputs": [],
   "source": []
  }
 ],
 "metadata": {
  "kernelspec": {
   "display_name": "Python 3 (ipykernel)",
   "language": "python",
   "name": "python3"
  },
  "language_info": {
   "codemirror_mode": {
    "name": "ipython",
    "version": 3
   },
   "file_extension": ".py",
   "mimetype": "text/x-python",
   "name": "python",
   "nbconvert_exporter": "python",
   "pygments_lexer": "ipython3",
   "version": "3.8.13"
  }
 },
 "nbformat": 4,
 "nbformat_minor": 5
}
